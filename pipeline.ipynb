{
 "cells": [
  {
   "cell_type": "code",
   "execution_count": 1,
   "metadata": {},
   "outputs": [],
   "source": [
    "import pyspark\n",
    "from pyspark.sql import SparkSession\n",
    "from pyspark.sql.functions import row_number\n",
    "from pyspark.sql.window import Window"
   ]
  },
  {
   "cell_type": "code",
   "execution_count": 2,
   "metadata": {},
   "outputs": [],
   "source": [
    "spark = SparkSession.builder.getOrCreate()"
   ]
  },
  {
   "cell_type": "code",
   "execution_count": 3,
   "metadata": {},
   "outputs": [],
   "source": [
    "path = \"./data/Imports_Exports_Dataset.csv\"\n",
    "data = spark.read.option(\"header\", True).csv(path)"
   ]
  },
  {
   "cell_type": "code",
   "execution_count": 4,
   "metadata": {},
   "outputs": [],
   "source": [
    "data.createOrReplaceTempView(\"Transactions\")"
   ]
  },
  {
   "cell_type": "code",
   "execution_count": 5,
   "metadata": {},
   "outputs": [
    {
     "name": "stdout",
     "output_type": "stream",
     "text": [
      "+--------------------+----------------+---------+-------------+--------+-------+----------+-----------+----------------+------------+-------+---------------+--------------------+-------------+--------------+----------------+\n",
      "|      Transaction_ID|         Country|  Product|Import_Export|Quantity|  Value|      Date|   Category|            Port|Customs_Code| Weight|Shipping_Method|            Supplier|     Customer|Invoice_Number|   Payment_Terms|\n",
      "+--------------------+----------------+---------+-------------+--------+-------+----------+-----------+----------------+------------+-------+---------------+--------------------+-------------+--------------+----------------+\n",
      "|e3e70682-c209-4ca...|        Colombia| describe|       Export|    1979|9506.57|07-12-2023|  Machinery|      Robertbury|      620537|4248.65|            Air|Garrison, Hubbard...|    Seth Hall|      21000294|Cash on Delivery|\n",
      "|f728b4fa-4248-4e3...|           Chile|president|       Export|    5763|7100.91|04-04-2023|   Clothing|        Shahport|      927600|4340.81|            Air|           Webb-Mack|Kimberly Ryan|      88738432|         Prepaid|\n",
      "|eb1167b3-67a9-437...|          Turkey|      far|       Import|    5740|2450.34|21-08-2024|Electronics|South Joshuatown|      299258|4538.41|            Air|Mendez, Jones and...|   Ryan Silva|      89922099|         Prepaid|\n",
      "|f7c1bd87-4da5-470...|Christmas Island|   agency|       Export|    2592|7226.42|09-05-2022|  Furniture|        Adamfort|      996084|4886.14|            Air|     Schroeder-Smith|   Jacob Gray|      63216265|          Net 60|\n",
      "|e443df78-9558-467...|         Finland|   policy|       Export|    2622|2817.29|03-04-2023|Electronics|       Juliebury|      555981|4406.74|            Air|       Zimmerman LLC| Amy Stephens|      94600248|Cash on Delivery|\n",
      "+--------------------+----------------+---------+-------------+--------+-------+----------+-----------+----------------+------------+-------+---------------+--------------------+-------------+--------------+----------------+\n",
      "only showing top 5 rows\n",
      "\n"
     ]
    }
   ],
   "source": [
    "data.show(5)"
   ]
  },
  {
   "cell_type": "code",
   "execution_count": 6,
   "metadata": {},
   "outputs": [],
   "source": [
    "query = \"SELECT DISTINCT Country FROM Transactions\"\n",
    "Country_Dim = spark.sql(query)"
   ]
  },
  {
   "cell_type": "code",
   "execution_count": 7,
   "metadata": {},
   "outputs": [
    {
     "name": "stdout",
     "output_type": "stream",
     "text": [
      "+--------------------+\n",
      "|             Country|\n",
      "+--------------------+\n",
      "|                Chad|\n",
      "|            Paraguay|\n",
      "|            Anguilla|\n",
      "|               Macao|\n",
      "|Heard Island and ...|\n",
      "+--------------------+\n",
      "only showing top 5 rows\n",
      "\n"
     ]
    }
   ],
   "source": [
    "Country_Dim.show(5)"
   ]
  },
  {
   "cell_type": "code",
   "execution_count": 8,
   "metadata": {},
   "outputs": [],
   "source": [
    "Country_Dim = Country_Dim.withColumn(\"Country_ID\", row_number().over(Window.orderBy(Country_Dim.Country)))"
   ]
  },
  {
   "cell_type": "code",
   "execution_count": 9,
   "metadata": {},
   "outputs": [
    {
     "name": "stdout",
     "output_type": "stream",
     "text": [
      "+--------------------+----------+\n",
      "|        Country_Name|Country_ID|\n",
      "+--------------------+----------+\n",
      "|         Afghanistan|         1|\n",
      "|             Albania|         2|\n",
      "|             Algeria|         3|\n",
      "|      American Samoa|         4|\n",
      "|             Andorra|         5|\n",
      "|              Angola|         6|\n",
      "|            Anguilla|         7|\n",
      "|Antarctica (the t...|         8|\n",
      "| Antigua and Barbuda|         9|\n",
      "|           Argentina|        10|\n",
      "+--------------------+----------+\n",
      "only showing top 10 rows\n",
      "\n"
     ]
    }
   ],
   "source": [
    "Country_Dim = Country_Dim.withColumnRenamed(\"Country\", \"Country_Name\")\n",
    "Country_Dim.show(10)"
   ]
  },
  {
   "cell_type": "code",
   "execution_count": 10,
   "metadata": {},
   "outputs": [],
   "source": [
    "query = \"SELECT DISTINCT Product FROM Transactions\"\n",
    "Product_Dim = spark.sql(query)"
   ]
  },
  {
   "cell_type": "code",
   "execution_count": 11,
   "metadata": {},
   "outputs": [
    {
     "name": "stdout",
     "output_type": "stream",
     "text": [
      "+---------+\n",
      "|  Product|\n",
      "+---------+\n",
      "|    those|\n",
      "|      few|\n",
      "|     hope|\n",
      "|recognize|\n",
      "|     some|\n",
      "+---------+\n",
      "only showing top 5 rows\n",
      "\n"
     ]
    }
   ],
   "source": [
    "Product_Dim.show(5)"
   ]
  },
  {
   "cell_type": "code",
   "execution_count": 12,
   "metadata": {},
   "outputs": [],
   "source": [
    "Product_Dim = Product_Dim.withColumn(\"Product_ID\", row_number().over(Window.orderBy(Product_Dim.Product)))"
   ]
  },
  {
   "cell_type": "code",
   "execution_count": 13,
   "metadata": {},
   "outputs": [
    {
     "name": "stdout",
     "output_type": "stream",
     "text": [
      "+------------+----------+\n",
      "|Product_Name|Product_ID|\n",
      "+------------+----------+\n",
      "|    American|         1|\n",
      "|    Congress|         2|\n",
      "|    Democrat|         3|\n",
      "|           I|         4|\n",
      "|          Mr|         5|\n",
      "|         Mrs|         6|\n",
      "|          PM|         7|\n",
      "|  Republican|         8|\n",
      "|        TRUE|         9|\n",
      "|          TV|        10|\n",
      "+------------+----------+\n",
      "only showing top 10 rows\n",
      "\n"
     ]
    }
   ],
   "source": [
    "Product_Dim = Product_Dim.withColumnRenamed(\"Product\", \"Product_Name\")\n",
    "Product_Dim.show(10)"
   ]
  },
  {
   "cell_type": "code",
   "execution_count": 14,
   "metadata": {},
   "outputs": [],
   "source": [
    "query = \"SELECT DISTINCT Category FROM Transactions\"\n",
    "Category_Dim = spark.sql(query)"
   ]
  },
  {
   "cell_type": "code",
   "execution_count": 15,
   "metadata": {},
   "outputs": [
    {
     "name": "stdout",
     "output_type": "stream",
     "text": [
      "+-----------+\n",
      "|   Category|\n",
      "+-----------+\n",
      "|  Machinery|\n",
      "|Electronics|\n",
      "|   Clothing|\n",
      "|  Furniture|\n",
      "|       Toys|\n",
      "+-----------+\n",
      "\n"
     ]
    }
   ],
   "source": [
    "Category_Dim.show(5)"
   ]
  },
  {
   "cell_type": "code",
   "execution_count": 16,
   "metadata": {},
   "outputs": [],
   "source": [
    "Category_Dim = Category_Dim.withColumn(\"Category_ID\", row_number().over(Window.orderBy(Category_Dim.Category)))"
   ]
  },
  {
   "cell_type": "code",
   "execution_count": 17,
   "metadata": {},
   "outputs": [
    {
     "name": "stdout",
     "output_type": "stream",
     "text": [
      "+-------------+-----------+\n",
      "|Category_Name|Category_ID|\n",
      "+-------------+-----------+\n",
      "|     Clothing|          1|\n",
      "|  Electronics|          2|\n",
      "|    Furniture|          3|\n",
      "|    Machinery|          4|\n",
      "|         Toys|          5|\n",
      "+-------------+-----------+\n",
      "\n"
     ]
    }
   ],
   "source": [
    "Category_Dim = Category_Dim.withColumnRenamed(\"Category\", \"Category_Name\")\n",
    "Category_Dim.show(10)"
   ]
  },
  {
   "cell_type": "code",
   "execution_count": 18,
   "metadata": {},
   "outputs": [],
   "source": [
    "query = \"SELECT DISTINCT Supplier FROM Transactions\"\n",
    "Supplier_Dim = spark.sql(query)"
   ]
  },
  {
   "cell_type": "code",
   "execution_count": 19,
   "metadata": {},
   "outputs": [
    {
     "name": "stdout",
     "output_type": "stream",
     "text": [
      "+--------------------+\n",
      "|            Supplier|\n",
      "+--------------------+\n",
      "|           Smith PLC|\n",
      "|Smith, Price and ...|\n",
      "|Jennings, Thomas ...|\n",
      "|        Gibson Group|\n",
      "|         Casey-Evans|\n",
      "+--------------------+\n",
      "only showing top 5 rows\n",
      "\n"
     ]
    }
   ],
   "source": [
    "Supplier_Dim.show(5)"
   ]
  },
  {
   "cell_type": "code",
   "execution_count": 20,
   "metadata": {},
   "outputs": [],
   "source": [
    "Supplier_Dim = Supplier_Dim.withColumn(\"Supplier_ID\", row_number().over(Window.orderBy(Supplier_Dim.Supplier)))"
   ]
  },
  {
   "cell_type": "code",
   "execution_count": 21,
   "metadata": {},
   "outputs": [
    {
     "name": "stdout",
     "output_type": "stream",
     "text": [
      "+--------------------+-----------+\n",
      "|       Supplier_Name|Supplier_ID|\n",
      "+--------------------+-----------+\n",
      "|          Abbott LLC|          1|\n",
      "|     Abbott and Sons|          2|\n",
      "|Abbott, Olson and...|          3|\n",
      "|Abbott, Taylor an...|          4|\n",
      "|     Abbott-Oconnell|          5|\n",
      "|        Abbott-Patel|          6|\n",
      "|         Acevedo LLC|          7|\n",
      "|Acevedo, Atkins a...|          8|\n",
      "|Acevedo, Gonzales...|          9|\n",
      "|Acevedo, Ortiz an...|         10|\n",
      "+--------------------+-----------+\n",
      "only showing top 10 rows\n",
      "\n"
     ]
    }
   ],
   "source": [
    "Supplier_Dim = Supplier_Dim.withColumnRenamed(\"Supplier\", \"Supplier_Name\")\n",
    "Supplier_Dim.show(10)"
   ]
  },
  {
   "cell_type": "code",
   "execution_count": 22,
   "metadata": {},
   "outputs": [],
   "source": [
    "query = \"SELECT DISTINCT Customer FROM Transactions\"\n",
    "Customer_Dim = spark.sql(query)"
   ]
  },
  {
   "cell_type": "code",
   "execution_count": 23,
   "metadata": {},
   "outputs": [
    {
     "name": "stdout",
     "output_type": "stream",
     "text": [
      "+-------------+\n",
      "|     Customer|\n",
      "+-------------+\n",
      "|  Kyle Nelson|\n",
      "|Jeremy Hunter|\n",
      "| Jasmine Long|\n",
      "| Ronald Hayes|\n",
      "|    John Dean|\n",
      "+-------------+\n",
      "only showing top 5 rows\n",
      "\n"
     ]
    }
   ],
   "source": [
    "Customer_Dim.show(5)"
   ]
  },
  {
   "cell_type": "code",
   "execution_count": 24,
   "metadata": {},
   "outputs": [],
   "source": [
    "Customer_Dim = Customer_Dim.withColumn(\"Customer_ID\", row_number().over(Window.orderBy(Customer_Dim.Customer)))"
   ]
  },
  {
   "cell_type": "code",
   "execution_count": 25,
   "metadata": {},
   "outputs": [
    {
     "name": "stdout",
     "output_type": "stream",
     "text": [
      "+-----------------+-----------+\n",
      "|    Customer_Name|Customer_ID|\n",
      "+-----------------+-----------+\n",
      "|      Aaron Ayers|          1|\n",
      "|      Aaron Baker|          2|\n",
      "|      Aaron Banks|          3|\n",
      "|     Aaron Barnes|          4|\n",
      "|      Aaron Brown|          5|\n",
      "|     Aaron Butler|          6|\n",
      "|Aaron Carroll Jr.|          7|\n",
      "|  Aaron Castaneda|          8|\n",
      "|     Aaron Chaney|          9|\n",
      "|      Aaron Cline|         10|\n",
      "+-----------------+-----------+\n",
      "only showing top 10 rows\n",
      "\n"
     ]
    }
   ],
   "source": [
    "Customer_Dim = Customer_Dim.withColumnRenamed(\"Customer\", \"Customer_Name\")\n",
    "Customer_Dim.show(10)"
   ]
  },
  {
   "cell_type": "code",
   "execution_count": 28,
   "metadata": {},
   "outputs": [],
   "source": [
    "data = data.join(Country_Dim, data[\"Country\"] == Country_Dim[\"Country_Name\"])\n",
    "data = data.join(Category_Dim, data[\"Category\"] == Category_Dim[\"Category_Name\"])\n",
    "data = data.join(Product_Dim, data[\"Product\"] == Product_Dim[\"Product_Name\"])\n",
    "data = data.join(Supplier_Dim, data[\"Supplier\"] == Supplier_Dim[\"Supplier_Name\"])\n",
    "data = data.join(Customer_Dim, data[\"Customer\"] == Customer_Dim[\"Customer_Name\"])"
   ]
  },
  {
   "cell_type": "code",
   "execution_count": 29,
   "metadata": {},
   "outputs": [
    {
     "name": "stdout",
     "output_type": "stream",
     "text": [
      "+---+--------------------+----------+----------+----------------+--------+-------+----------+-----------+-----------+------------+-------+---------------+-----------+-----------+--------------+-------------+\n",
      "| ID|      Transaction_ID|Country_ID|Product_ID|Transaction_Type|Quantity|  Value|      Date|Category_ID|       Port|Customs_Code| Weight|Shipping_Method|Supplier_ID|Customer_ID|Invoice_Number|Payment_Terms|\n",
      "+---+--------------------+----------+----------+----------------+--------+-------+----------+-----------+-----------+------------+-------+---------------+-----------+-----------+--------------+-------------+\n",
      "|  1|00073cc2-c801-467...|        77|       866|          Export|    2434|9753.17|30-09-2023|          5|  Davisbury|      194680|4111.53|           Land|       7387|       1530|      32236195|      Prepaid|\n",
      "|  2|000b6710-f8b4-4dd...|        83|       675|          Export|    7036|  728.5|25-06-2020|          4|Russellport|      492898|4893.37|            Sea|       1845|      10219|      94858833|       Net 30|\n",
      "|  3|00183cfe-ceb0-422...|       224|       187|          Import|    4402|5008.88|12-04-2020|          1|  Jacobberg|      563978|3602.01|           Land|       1688|       7601|      60421596|      Prepaid|\n",
      "|  4|001b10c4-0ec1-48c...|        65|       806|          Import|     936|1589.15|23-10-2021|          5| New Jeremy|      364933|   7.11|            Sea|       8618|       4108|      31253655|       Net 30|\n",
      "|  5|001cfd71-1996-4ff...|        73|       622|          Export|    2453|7840.81|12-08-2021|          2|Carlosville|      418131|3810.96|           Land|      11072|       4170|      23833353|       Net 60|\n",
      "+---+--------------------+----------+----------+----------------+--------+-------+----------+-----------+-----------+------------+-------+---------------+-----------+-----------+--------------+-------------+\n",
      "only showing top 5 rows\n",
      "\n"
     ]
    }
   ],
   "source": [
    "Transactions_Fact = data.withColumn(\"ID\", row_number().over(Window.orderBy(data.Transaction_ID)))\n",
    "Transactions_Fact = Transactions_Fact.withColumn(\"Transaction_Type\", Transactions_Fact[\"Import_Export\"])\n",
    "Transactions_Fact = Transactions_Fact[[\"ID\",\"Transaction_ID\",\"Country_ID\", \"Product_ID\", \"Transaction_Type\",\"Quantity\", \"Value\", \"Date\", \"Category_ID\", \"Port\", \"Customs_Code\", \"Weight\", \"Shipping_Method\", \"Supplier_ID\", \"Customer_ID\", \"Invoice_Number\", \"Payment_Terms\"]]\n",
    "\n",
    "Transactions_Fact.show(5)"
   ]
  },
  {
   "cell_type": "code",
   "execution_count": null,
   "metadata": {},
   "outputs": [],
   "source": [
    "Transactions_Fact.toPandas().to_csv(\"./output/Transaction_Fact.csv\")\n",
    "Country_Dim.toPandas().to_csv(\"./output/Country_Dim.csv\")\n",
    "Category_Dim.toPandas().to_csv(\"./output/Category_Dim.csv\")\n",
    "Product_Dim.toPandas().to_csv(\"./output/Product_Dim.csv\")\n",
    "Supplier_Dim.toPandas().to_csv(\"./output/Supplier_Dim.csv\")\n",
    "Customer_Dim.toPandas().to_csv(\"./output/Customer_Dim.csv\")"
   ]
  }
 ],
 "metadata": {
  "kernelspec": {
   "display_name": "Python 3",
   "language": "python",
   "name": "python3"
  },
  "language_info": {
   "codemirror_mode": {
    "name": "ipython",
    "version": 3
   },
   "file_extension": ".py",
   "mimetype": "text/x-python",
   "name": "python",
   "nbconvert_exporter": "python",
   "pygments_lexer": "ipython3",
   "version": "3.11.5"
  }
 },
 "nbformat": 4,
 "nbformat_minor": 2
}
